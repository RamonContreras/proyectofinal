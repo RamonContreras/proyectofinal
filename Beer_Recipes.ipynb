{
 "cells": [
  {
   "cell_type": "markdown",
   "metadata": {},
   "source": [
    "# Beer Recipes"
   ]
  },
  {
   "cell_type": "markdown",
   "metadata": {},
   "source": [
    "## Parte 1.- Estadisticos de Clasificación mas Relevantes"
   ]
  },
  {
   "cell_type": "code",
   "execution_count": 126,
   "metadata": {},
   "outputs": [],
   "source": [
    "import pandas as pd\n",
    "import numpy as np\n",
    "from scipy import stats\n",
    "import matplotlib.pyplot as plt\n",
    "import seaborn as sns\n",
    "sns.set(style='white')"
   ]
  },
  {
   "cell_type": "code",
   "execution_count": 127,
   "metadata": {},
   "outputs": [
    {
     "data": {
      "text/html": [
       "<div>\n",
       "<style scoped>\n",
       "    .dataframe tbody tr th:only-of-type {\n",
       "        vertical-align: middle;\n",
       "    }\n",
       "\n",
       "    .dataframe tbody tr th {\n",
       "        vertical-align: top;\n",
       "    }\n",
       "\n",
       "    .dataframe thead th {\n",
       "        text-align: right;\n",
       "    }\n",
       "</style>\n",
       "<table border=\"1\" class=\"dataframe\">\n",
       "  <thead>\n",
       "    <tr style=\"text-align: right;\">\n",
       "      <th></th>\n",
       "      <th>Name</th>\n",
       "      <th>URL</th>\n",
       "      <th>Style</th>\n",
       "      <th>StyleID</th>\n",
       "      <th>Size(L)</th>\n",
       "      <th>OG</th>\n",
       "      <th>FG</th>\n",
       "      <th>ABV</th>\n",
       "      <th>IBU</th>\n",
       "      <th>Color</th>\n",
       "      <th>BoilSize</th>\n",
       "      <th>BoilTime</th>\n",
       "      <th>BoilGravity</th>\n",
       "      <th>Efficiency</th>\n",
       "      <th>SugarScale</th>\n",
       "      <th>BrewMethod</th>\n",
       "    </tr>\n",
       "    <tr>\n",
       "      <th>BeerID</th>\n",
       "      <th></th>\n",
       "      <th></th>\n",
       "      <th></th>\n",
       "      <th></th>\n",
       "      <th></th>\n",
       "      <th></th>\n",
       "      <th></th>\n",
       "      <th></th>\n",
       "      <th></th>\n",
       "      <th></th>\n",
       "      <th></th>\n",
       "      <th></th>\n",
       "      <th></th>\n",
       "      <th></th>\n",
       "      <th></th>\n",
       "      <th></th>\n",
       "    </tr>\n",
       "  </thead>\n",
       "  <tbody>\n",
       "    <tr>\n",
       "      <th>1</th>\n",
       "      <td>Vanilla Cream Ale</td>\n",
       "      <td>/homebrew/recipe/view/1633/vanilla-cream-ale</td>\n",
       "      <td>Cream Ale</td>\n",
       "      <td>45</td>\n",
       "      <td>21.77</td>\n",
       "      <td>1.055</td>\n",
       "      <td>1.013</td>\n",
       "      <td>5.48</td>\n",
       "      <td>17.65</td>\n",
       "      <td>4.83</td>\n",
       "      <td>28.39</td>\n",
       "      <td>75</td>\n",
       "      <td>1.038</td>\n",
       "      <td>70.0</td>\n",
       "      <td>Specific Gravity</td>\n",
       "      <td>All Grain</td>\n",
       "    </tr>\n",
       "    <tr>\n",
       "      <th>2</th>\n",
       "      <td>Southern Tier Pumking clone</td>\n",
       "      <td>/homebrew/recipe/view/16367/southern-tier-pumk...</td>\n",
       "      <td>Holiday/Winter Special Spiced Beer</td>\n",
       "      <td>85</td>\n",
       "      <td>20.82</td>\n",
       "      <td>1.083</td>\n",
       "      <td>1.021</td>\n",
       "      <td>8.16</td>\n",
       "      <td>60.65</td>\n",
       "      <td>15.64</td>\n",
       "      <td>24.61</td>\n",
       "      <td>60</td>\n",
       "      <td>1.070</td>\n",
       "      <td>70.0</td>\n",
       "      <td>Specific Gravity</td>\n",
       "      <td>All Grain</td>\n",
       "    </tr>\n",
       "    <tr>\n",
       "      <th>3</th>\n",
       "      <td>Zombie Dust Clone - EXTRACT</td>\n",
       "      <td>/homebrew/recipe/view/5920/zombie-dust-clone-e...</td>\n",
       "      <td>American IPA</td>\n",
       "      <td>7</td>\n",
       "      <td>18.93</td>\n",
       "      <td>1.063</td>\n",
       "      <td>1.018</td>\n",
       "      <td>5.91</td>\n",
       "      <td>59.25</td>\n",
       "      <td>8.98</td>\n",
       "      <td>22.71</td>\n",
       "      <td>60</td>\n",
       "      <td>1.350</td>\n",
       "      <td>70.0</td>\n",
       "      <td>Specific Gravity</td>\n",
       "      <td>extract</td>\n",
       "    </tr>\n",
       "    <tr>\n",
       "      <th>4</th>\n",
       "      <td>Zombie Dust Clone - ALL GRAIN</td>\n",
       "      <td>/homebrew/recipe/view/5916/zombie-dust-clone-a...</td>\n",
       "      <td>American IPA</td>\n",
       "      <td>7</td>\n",
       "      <td>22.71</td>\n",
       "      <td>1.061</td>\n",
       "      <td>1.017</td>\n",
       "      <td>5.80</td>\n",
       "      <td>54.48</td>\n",
       "      <td>8.50</td>\n",
       "      <td>26.50</td>\n",
       "      <td>60</td>\n",
       "      <td>1.350</td>\n",
       "      <td>70.0</td>\n",
       "      <td>Specific Gravity</td>\n",
       "      <td>All Grain</td>\n",
       "    </tr>\n",
       "    <tr>\n",
       "      <th>5</th>\n",
       "      <td>Bakke Brygg Belgisk Blonde 50 l</td>\n",
       "      <td>/homebrew/recipe/view/89534/bakke-brygg-belgis...</td>\n",
       "      <td>Belgian Blond Ale</td>\n",
       "      <td>20</td>\n",
       "      <td>50.00</td>\n",
       "      <td>1.060</td>\n",
       "      <td>1.010</td>\n",
       "      <td>6.48</td>\n",
       "      <td>17.84</td>\n",
       "      <td>4.57</td>\n",
       "      <td>60.00</td>\n",
       "      <td>90</td>\n",
       "      <td>1.050</td>\n",
       "      <td>72.0</td>\n",
       "      <td>Specific Gravity</td>\n",
       "      <td>All Grain</td>\n",
       "    </tr>\n",
       "  </tbody>\n",
       "</table>\n",
       "</div>"
      ],
      "text/plain": [
       "                                   Name  \\\n",
       "BeerID                                    \n",
       "1                     Vanilla Cream Ale   \n",
       "2           Southern Tier Pumking clone   \n",
       "3           Zombie Dust Clone - EXTRACT   \n",
       "4         Zombie Dust Clone - ALL GRAIN   \n",
       "5       Bakke Brygg Belgisk Blonde 50 l   \n",
       "\n",
       "                                                      URL  \\\n",
       "BeerID                                                      \n",
       "1            /homebrew/recipe/view/1633/vanilla-cream-ale   \n",
       "2       /homebrew/recipe/view/16367/southern-tier-pumk...   \n",
       "3       /homebrew/recipe/view/5920/zombie-dust-clone-e...   \n",
       "4       /homebrew/recipe/view/5916/zombie-dust-clone-a...   \n",
       "5       /homebrew/recipe/view/89534/bakke-brygg-belgis...   \n",
       "\n",
       "                                     Style  StyleID  Size(L)     OG     FG  \\\n",
       "BeerID                                                                       \n",
       "1                                Cream Ale       45    21.77  1.055  1.013   \n",
       "2       Holiday/Winter Special Spiced Beer       85    20.82  1.083  1.021   \n",
       "3                             American IPA        7    18.93  1.063  1.018   \n",
       "4                             American IPA        7    22.71  1.061  1.017   \n",
       "5                        Belgian Blond Ale       20    50.00  1.060  1.010   \n",
       "\n",
       "         ABV    IBU  Color  BoilSize  BoilTime  BoilGravity  Efficiency  \\\n",
       "BeerID                                                                    \n",
       "1       5.48  17.65   4.83     28.39        75        1.038        70.0   \n",
       "2       8.16  60.65  15.64     24.61        60        1.070        70.0   \n",
       "3       5.91  59.25   8.98     22.71        60        1.350        70.0   \n",
       "4       5.80  54.48   8.50     26.50        60        1.350        70.0   \n",
       "5       6.48  17.84   4.57     60.00        90        1.050        72.0   \n",
       "\n",
       "              SugarScale BrewMethod  \n",
       "BeerID                               \n",
       "1       Specific Gravity  All Grain  \n",
       "2       Specific Gravity  All Grain  \n",
       "3       Specific Gravity    extract  \n",
       "4       Specific Gravity  All Grain  \n",
       "5       Specific Gravity  All Grain  "
      ]
     },
     "execution_count": 127,
     "metadata": {},
     "output_type": "execute_result"
    }
   ],
   "source": [
    "beers = pd.read_csv('../Beer Recipe/recipeData_test.csv', index_col=0)\n",
    "beers.head()"
   ]
  },
  {
   "cell_type": "markdown",
   "metadata": {},
   "source": [
    "#### Del dataset anterior vamos a revisar los estilos de cerveza mas populares"
   ]
  },
  {
   "cell_type": "code",
   "execution_count": 128,
   "metadata": {},
   "outputs": [
    {
     "data": {
      "text/plain": [
       "American IPA              11940\n",
       "American Pale Ale          7581\n",
       "Saison                     2617\n",
       "American Light Lager       2277\n",
       "American Amber Ale         2038\n",
       "                          ...  \n",
       "Lichtenhainer                 6\n",
       "Apple Wine                    6\n",
       "Pyment (Grape Melomel)        5\n",
       "Traditional Perry             2\n",
       "French Cider                  2\n",
       "Name: Style, Length: 175, dtype: int64"
      ]
     },
     "execution_count": 128,
     "metadata": {},
     "output_type": "execute_result"
    }
   ],
   "source": [
    "beers['Style'].value_counts()"
   ]
  },
  {
   "cell_type": "markdown",
   "metadata": {},
   "source": [
    "#### A continuación solo vamos a graficar los primeros 5 estilos de Cervezas y sus métodos de preparación"
   ]
  },
  {
   "cell_type": "code",
   "execution_count": 129,
   "metadata": {},
   "outputs": [
    {
     "data": {
      "text/html": [
       "<div>\n",
       "<style scoped>\n",
       "    .dataframe tbody tr th:only-of-type {\n",
       "        vertical-align: middle;\n",
       "    }\n",
       "\n",
       "    .dataframe tbody tr th {\n",
       "        vertical-align: top;\n",
       "    }\n",
       "\n",
       "    .dataframe thead th {\n",
       "        text-align: right;\n",
       "    }\n",
       "</style>\n",
       "<table border=\"1\" class=\"dataframe\">\n",
       "  <thead>\n",
       "    <tr style=\"text-align: right;\">\n",
       "      <th></th>\n",
       "      <th>Name</th>\n",
       "      <th>URL</th>\n",
       "      <th>Style</th>\n",
       "      <th>StyleID</th>\n",
       "      <th>Size(L)</th>\n",
       "      <th>OG</th>\n",
       "      <th>FG</th>\n",
       "      <th>ABV</th>\n",
       "      <th>IBU</th>\n",
       "      <th>Color</th>\n",
       "      <th>BoilSize</th>\n",
       "      <th>BoilTime</th>\n",
       "      <th>BoilGravity</th>\n",
       "      <th>Efficiency</th>\n",
       "      <th>SugarScale</th>\n",
       "      <th>BrewMethod</th>\n",
       "    </tr>\n",
       "    <tr>\n",
       "      <th>BeerID</th>\n",
       "      <th></th>\n",
       "      <th></th>\n",
       "      <th></th>\n",
       "      <th></th>\n",
       "      <th></th>\n",
       "      <th></th>\n",
       "      <th></th>\n",
       "      <th></th>\n",
       "      <th></th>\n",
       "      <th></th>\n",
       "      <th></th>\n",
       "      <th></th>\n",
       "      <th></th>\n",
       "      <th></th>\n",
       "      <th></th>\n",
       "      <th></th>\n",
       "    </tr>\n",
       "  </thead>\n",
       "  <tbody>\n",
       "    <tr>\n",
       "      <th>3</th>\n",
       "      <td>Zombie Dust Clone - EXTRACT</td>\n",
       "      <td>/homebrew/recipe/view/5920/zombie-dust-clone-e...</td>\n",
       "      <td>American IPA</td>\n",
       "      <td>7</td>\n",
       "      <td>18.93</td>\n",
       "      <td>1.063</td>\n",
       "      <td>1.018</td>\n",
       "      <td>5.91</td>\n",
       "      <td>59.25</td>\n",
       "      <td>8.98</td>\n",
       "      <td>22.71</td>\n",
       "      <td>60</td>\n",
       "      <td>1.350</td>\n",
       "      <td>70.0</td>\n",
       "      <td>Specific Gravity</td>\n",
       "      <td>extract</td>\n",
       "    </tr>\n",
       "    <tr>\n",
       "      <th>4</th>\n",
       "      <td>Zombie Dust Clone - ALL GRAIN</td>\n",
       "      <td>/homebrew/recipe/view/5916/zombie-dust-clone-a...</td>\n",
       "      <td>American IPA</td>\n",
       "      <td>7</td>\n",
       "      <td>22.71</td>\n",
       "      <td>1.061</td>\n",
       "      <td>1.017</td>\n",
       "      <td>5.80</td>\n",
       "      <td>54.48</td>\n",
       "      <td>8.50</td>\n",
       "      <td>26.50</td>\n",
       "      <td>60</td>\n",
       "      <td>1.350</td>\n",
       "      <td>70.0</td>\n",
       "      <td>Specific Gravity</td>\n",
       "      <td>All Grain</td>\n",
       "    </tr>\n",
       "    <tr>\n",
       "      <th>6</th>\n",
       "      <td>Sierra Nevada Pale Ale Clone</td>\n",
       "      <td>/homebrew/recipe/view/28546/sierra-nevada-pale...</td>\n",
       "      <td>American Pale Ale</td>\n",
       "      <td>10</td>\n",
       "      <td>24.61</td>\n",
       "      <td>1.055</td>\n",
       "      <td>1.013</td>\n",
       "      <td>5.58</td>\n",
       "      <td>40.12</td>\n",
       "      <td>8.00</td>\n",
       "      <td>29.34</td>\n",
       "      <td>70</td>\n",
       "      <td>1.047</td>\n",
       "      <td>79.0</td>\n",
       "      <td>Specific Gravity</td>\n",
       "      <td>All Grain</td>\n",
       "    </tr>\n",
       "    <tr>\n",
       "      <th>11</th>\n",
       "      <td>Bakke Brygg HveteIPA 25 L</td>\n",
       "      <td>/homebrew/recipe/view/73890/bakke-brygg-hvetei...</td>\n",
       "      <td>American IPA</td>\n",
       "      <td>7</td>\n",
       "      <td>25.00</td>\n",
       "      <td>1.064</td>\n",
       "      <td>1.014</td>\n",
       "      <td>6.63</td>\n",
       "      <td>64.26</td>\n",
       "      <td>7.78</td>\n",
       "      <td>29.00</td>\n",
       "      <td>90</td>\n",
       "      <td>1.055</td>\n",
       "      <td>74.0</td>\n",
       "      <td>Specific Gravity</td>\n",
       "      <td>All Grain</td>\n",
       "    </tr>\n",
       "    <tr>\n",
       "      <th>12</th>\n",
       "      <td>Hop Notch Clone</td>\n",
       "      <td>/homebrew/recipe/view/10092/hop-notch-clone</td>\n",
       "      <td>American IPA</td>\n",
       "      <td>7</td>\n",
       "      <td>15.14</td>\n",
       "      <td>1.066</td>\n",
       "      <td>1.015</td>\n",
       "      <td>6.62</td>\n",
       "      <td>111.00</td>\n",
       "      <td>14.26</td>\n",
       "      <td>11.36</td>\n",
       "      <td>90</td>\n",
       "      <td>1.350</td>\n",
       "      <td>70.0</td>\n",
       "      <td>Specific Gravity</td>\n",
       "      <td>BIAB</td>\n",
       "    </tr>\n",
       "  </tbody>\n",
       "</table>\n",
       "</div>"
      ],
      "text/plain": [
       "                                 Name  \\\n",
       "BeerID                                  \n",
       "3         Zombie Dust Clone - EXTRACT   \n",
       "4       Zombie Dust Clone - ALL GRAIN   \n",
       "6        Sierra Nevada Pale Ale Clone   \n",
       "11          Bakke Brygg HveteIPA 25 L   \n",
       "12                    Hop Notch Clone   \n",
       "\n",
       "                                                      URL              Style  \\\n",
       "BeerID                                                                         \n",
       "3       /homebrew/recipe/view/5920/zombie-dust-clone-e...       American IPA   \n",
       "4       /homebrew/recipe/view/5916/zombie-dust-clone-a...       American IPA   \n",
       "6       /homebrew/recipe/view/28546/sierra-nevada-pale...  American Pale Ale   \n",
       "11      /homebrew/recipe/view/73890/bakke-brygg-hvetei...       American IPA   \n",
       "12            /homebrew/recipe/view/10092/hop-notch-clone       American IPA   \n",
       "\n",
       "        StyleID  Size(L)     OG     FG   ABV     IBU  Color  BoilSize  \\\n",
       "BeerID                                                                  \n",
       "3             7    18.93  1.063  1.018  5.91   59.25   8.98     22.71   \n",
       "4             7    22.71  1.061  1.017  5.80   54.48   8.50     26.50   \n",
       "6            10    24.61  1.055  1.013  5.58   40.12   8.00     29.34   \n",
       "11            7    25.00  1.064  1.014  6.63   64.26   7.78     29.00   \n",
       "12            7    15.14  1.066  1.015  6.62  111.00  14.26     11.36   \n",
       "\n",
       "        BoilTime  BoilGravity  Efficiency        SugarScale BrewMethod  \n",
       "BeerID                                                                  \n",
       "3             60        1.350        70.0  Specific Gravity    extract  \n",
       "4             60        1.350        70.0  Specific Gravity  All Grain  \n",
       "6             70        1.047        79.0  Specific Gravity  All Grain  \n",
       "11            90        1.055        74.0  Specific Gravity  All Grain  \n",
       "12            90        1.350        70.0  Specific Gravity       BIAB  "
      ]
     },
     "execution_count": 129,
     "metadata": {},
     "output_type": "execute_result"
    }
   ],
   "source": [
    "T1 = beers[(beers['Style'] == 'American IPA') | (beers['Style'] == 'American Pale Ale') | (beers['Style'] == 'Saison') | (beers['Style'] == 'American Light Lager') | (beers['Style'] == 'American Amber Ale')]\n",
    "T1.head()"
   ]
  },
  {
   "cell_type": "code",
   "execution_count": 130,
   "metadata": {},
   "outputs": [
    {
     "data": {
      "text/plain": [
       "6102.08"
      ]
     },
     "execution_count": 130,
     "metadata": {},
     "output_type": "execute_result"
    }
   ],
   "source": [
    "T1[\"Size(L)\"].max()"
   ]
  },
  {
   "cell_type": "code",
   "execution_count": 131,
   "metadata": {},
   "outputs": [
    {
     "data": {
      "text/html": [
       "<div>\n",
       "<style scoped>\n",
       "    .dataframe tbody tr th:only-of-type {\n",
       "        vertical-align: middle;\n",
       "    }\n",
       "\n",
       "    .dataframe tbody tr th {\n",
       "        vertical-align: top;\n",
       "    }\n",
       "\n",
       "    .dataframe thead th {\n",
       "        text-align: right;\n",
       "    }\n",
       "</style>\n",
       "<table border=\"1\" class=\"dataframe\">\n",
       "  <thead>\n",
       "    <tr style=\"text-align: right;\">\n",
       "      <th></th>\n",
       "      <th>Name</th>\n",
       "      <th>URL</th>\n",
       "      <th>Style</th>\n",
       "      <th>StyleID</th>\n",
       "      <th>Size(L)</th>\n",
       "      <th>OG</th>\n",
       "      <th>FG</th>\n",
       "      <th>ABV</th>\n",
       "      <th>IBU</th>\n",
       "      <th>Color</th>\n",
       "      <th>BoilSize</th>\n",
       "      <th>BoilTime</th>\n",
       "      <th>BoilGravity</th>\n",
       "      <th>Efficiency</th>\n",
       "      <th>SugarScale</th>\n",
       "      <th>BrewMethod</th>\n",
       "    </tr>\n",
       "    <tr>\n",
       "      <th>BeerID</th>\n",
       "      <th></th>\n",
       "      <th></th>\n",
       "      <th></th>\n",
       "      <th></th>\n",
       "      <th></th>\n",
       "      <th></th>\n",
       "      <th></th>\n",
       "      <th></th>\n",
       "      <th></th>\n",
       "      <th></th>\n",
       "      <th></th>\n",
       "      <th></th>\n",
       "      <th></th>\n",
       "      <th></th>\n",
       "      <th></th>\n",
       "      <th></th>\n",
       "    </tr>\n",
       "  </thead>\n",
       "  <tbody>\n",
       "    <tr>\n",
       "      <th>58089</th>\n",
       "      <td>Pale Ale - 50 Barrel</td>\n",
       "      <td>/homebrew/recipe/view/516730/pale-ale-50-barrel</td>\n",
       "      <td>American Pale Ale</td>\n",
       "      <td>10</td>\n",
       "      <td>6102.08</td>\n",
       "      <td>1.056</td>\n",
       "      <td>1.013</td>\n",
       "      <td>5.6</td>\n",
       "      <td>20.14</td>\n",
       "      <td>3.49</td>\n",
       "      <td>6454.13</td>\n",
       "      <td>60</td>\n",
       "      <td>1.053</td>\n",
       "      <td>90.0</td>\n",
       "      <td>Specific Gravity</td>\n",
       "      <td>All Grain</td>\n",
       "    </tr>\n",
       "  </tbody>\n",
       "</table>\n",
       "</div>"
      ],
      "text/plain": [
       "                        Name                                              URL  \\\n",
       "BeerID                                                                          \n",
       "58089   Pale Ale - 50 Barrel  /homebrew/recipe/view/516730/pale-ale-50-barrel   \n",
       "\n",
       "                    Style  StyleID  Size(L)     OG     FG  ABV    IBU  Color  \\\n",
       "BeerID                                                                         \n",
       "58089   American Pale Ale       10  6102.08  1.056  1.013  5.6  20.14   3.49   \n",
       "\n",
       "        BoilSize  BoilTime  BoilGravity  Efficiency        SugarScale  \\\n",
       "BeerID                                                                  \n",
       "58089    6454.13        60        1.053        90.0  Specific Gravity   \n",
       "\n",
       "       BrewMethod  \n",
       "BeerID             \n",
       "58089   All Grain  "
      ]
     },
     "execution_count": 131,
     "metadata": {},
     "output_type": "execute_result"
    }
   ],
   "source": [
    "size_Max = T1[\"Size(L)\"] == 6102.08\n",
    "T1[size_Max]"
   ]
  },
  {
   "cell_type": "code",
   "execution_count": 132,
   "metadata": {},
   "outputs": [
    {
     "data": {
      "text/html": [
       "<div>\n",
       "<style scoped>\n",
       "    .dataframe tbody tr th:only-of-type {\n",
       "        vertical-align: middle;\n",
       "    }\n",
       "\n",
       "    .dataframe tbody tr th {\n",
       "        vertical-align: top;\n",
       "    }\n",
       "\n",
       "    .dataframe thead th {\n",
       "        text-align: right;\n",
       "    }\n",
       "</style>\n",
       "<table border=\"1\" class=\"dataframe\">\n",
       "  <thead>\n",
       "    <tr style=\"text-align: right;\">\n",
       "      <th>Style</th>\n",
       "      <th>American Amber Ale</th>\n",
       "      <th>American IPA</th>\n",
       "      <th>American Light Lager</th>\n",
       "      <th>American Pale Ale</th>\n",
       "      <th>Saison</th>\n",
       "    </tr>\n",
       "    <tr>\n",
       "      <th>BrewMethod</th>\n",
       "      <th></th>\n",
       "      <th></th>\n",
       "      <th></th>\n",
       "      <th></th>\n",
       "      <th></th>\n",
       "    </tr>\n",
       "  </thead>\n",
       "  <tbody>\n",
       "    <tr>\n",
       "      <th>All Grain</th>\n",
       "      <td>1322</td>\n",
       "      <td>7983</td>\n",
       "      <td>1500</td>\n",
       "      <td>4932</td>\n",
       "      <td>1821</td>\n",
       "    </tr>\n",
       "    <tr>\n",
       "      <th>BIAB</th>\n",
       "      <td>285</td>\n",
       "      <td>1931</td>\n",
       "      <td>338</td>\n",
       "      <td>1395</td>\n",
       "      <td>477</td>\n",
       "    </tr>\n",
       "    <tr>\n",
       "      <th>Partial Mash</th>\n",
       "      <td>104</td>\n",
       "      <td>531</td>\n",
       "      <td>94</td>\n",
       "      <td>348</td>\n",
       "      <td>112</td>\n",
       "    </tr>\n",
       "    <tr>\n",
       "      <th>extract</th>\n",
       "      <td>327</td>\n",
       "      <td>1495</td>\n",
       "      <td>345</td>\n",
       "      <td>906</td>\n",
       "      <td>207</td>\n",
       "    </tr>\n",
       "  </tbody>\n",
       "</table>\n",
       "</div>"
      ],
      "text/plain": [
       "Style         American Amber Ale  American IPA  American Light Lager  \\\n",
       "BrewMethod                                                             \n",
       "All Grain                   1322          7983                  1500   \n",
       "BIAB                         285          1931                   338   \n",
       "Partial Mash                 104           531                    94   \n",
       "extract                      327          1495                   345   \n",
       "\n",
       "Style         American Pale Ale  Saison  \n",
       "BrewMethod                               \n",
       "All Grain                  4932    1821  \n",
       "BIAB                       1395     477  \n",
       "Partial Mash                348     112  \n",
       "extract                     906     207  "
      ]
     },
     "execution_count": 132,
     "metadata": {},
     "output_type": "execute_result"
    }
   ],
   "source": [
    "crosstab = pd.crosstab(T1['BrewMethod'], T1['Style'])\n",
    "crosstab"
   ]
  },
  {
   "cell_type": "code",
   "execution_count": 243,
   "metadata": {},
   "outputs": [
    {
     "data": {
      "text/plain": [
       "All Grain       17558\n",
       "BIAB             4426\n",
       "extract          3280\n",
       "Partial Mash     1189\n",
       "Name: BrewMethod, dtype: int64"
      ]
     },
     "execution_count": 243,
     "metadata": {},
     "output_type": "execute_result"
    }
   ],
   "source": [
    "method = T1[\"BrewMethod\"].value_counts()\n",
    "method"
   ]
  },
  {
   "cell_type": "code",
   "execution_count": 246,
   "metadata": {},
   "outputs": [],
   "source": [
    "metP = method * 100 / method.sum()"
   ]
  },
  {
   "cell_type": "code",
   "execution_count": 247,
   "metadata": {},
   "outputs": [
    {
     "data": {
      "image/png": "[encoded data removed]",
      "text/plain": [
       "<Figure size 432x288 with 1 Axes>"
      ]
     },
     "metadata": {},
     "output_type": "display_data"
    }
   ],
   "source": [
    "ax = sns.barplot(x=metP, y=metP.index, orient='h')\n",
    "ax.set_title('Conteo de métodos de preparación')\n",
    "ax.set(xlabel='conteo');"
   ]
  },
  {
   "cell_type": "code",
   "execution_count": 133,
   "metadata": {},
   "outputs": [
    {
     "data": {
      "text/plain": [
       "American IPA            11940\n",
       "American Pale Ale        7581\n",
       "Saison                   2617\n",
       "American Light Lager     2277\n",
       "American Amber Ale       2038\n",
       "Name: Style, dtype: int64"
      ]
     },
     "execution_count": 133,
     "metadata": {},
     "output_type": "execute_result"
    }
   ],
   "source": [
    "counts = T1[\"Style\"].value_counts()\n",
    "counts"
   ]
  },
  {
   "cell_type": "code",
   "execution_count": 134,
   "metadata": {},
   "outputs": [
    {
     "data": {
      "text/plain": [
       "American IPA            45.136657\n",
       "American Pale Ale       28.658375\n",
       "Saison                   9.893018\n",
       "American Light Lager     8.607719\n",
       "American Amber Ale       7.704230\n",
       "Name: Style, dtype: float64"
      ]
     },
     "execution_count": 134,
     "metadata": {},
     "output_type": "execute_result"
    }
   ],
   "source": [
    "counts * 100 / counts.sum()"
   ]
  },
  {
   "cell_type": "code",
   "execution_count": 135,
   "metadata": {},
   "outputs": [],
   "source": [
    "as_percentages = counts * 100 / counts.sum()"
   ]
  },
  {
   "cell_type": "code",
   "execution_count": 136,
   "metadata": {},
   "outputs": [
    {
     "data": {
      "image/png": "[encoded data removed]",
      "text/plain": [
       "<Figure size 432x288 with 1 Axes>"
      ]
     },
     "metadata": {},
     "output_type": "display_data"
    }
   ],
   "source": [
    "ax = sns.barplot(x=as_percentages.index, y=as_percentages)\n",
    "ax.set_title('Conteo de Estilos de Cervezas')\n",
    "ax.set(ylabel='Porcentaje');\n",
    "ax.set_xticklabels(ax.get_xticklabels(), rotation=45);"
   ]
  },
  {
   "cell_type": "markdown",
   "metadata": {},
   "source": [
    "## Grados de Alcohol"
   ]
  },
  {
   "cell_type": "code",
   "execution_count": 137,
   "metadata": {},
   "outputs": [
    {
     "data": {
      "image/png": "[encoded data removed]",
      "text/plain": [
       "<Figure size 432x288 with 1 Axes>"
      ]
     },
     "metadata": {},
     "output_type": "display_data"
    }
   ],
   "source": [
    "sns.set_style(\"whitegrid\")\n",
    "sns.boxplot(x=T1['ABV']);\n",
    "plt.axvline(T1['ABV'].mean(), c='y');"
   ]
  },
  {
   "cell_type": "code",
   "execution_count": 138,
   "metadata": {},
   "outputs": [
    {
     "name": "stdout",
     "output_type": "stream",
     "text": [
      "Valor mínimo: 0.0\n",
      "Percentil 0: 0.0\n",
      "Percentil 10: 4.72\n",
      "Percentil 25: 5.28\n",
      "Promedio: 5.94\n",
      "Mediana: 5.94\n",
      "Percentil 75: 6.65\n",
      "Percentil 90: 7.309999999999999\n",
      "Percentil 100: 54.72\n",
      "Valor máximo: 54.72\n"
     ]
    }
   ],
   "source": [
    "print(f'Valor mínimo: {T1[\"ABV\"].min()}')\n",
    "print(f'Percentil 0: {T1[\"ABV\"].quantile(0)}')\n",
    "print(f'Percentil 10: {T1[\"ABV\"].quantile(0.1)}')\n",
    "print(f'Percentil 25: {T1[\"ABV\"].quantile(0.25)}')\n",
    "print(f'Promedio: {T1[\"ABV\"].median()}')\n",
    "print(f'Mediana: {T1[\"ABV\"].quantile(0.5)}')\n",
    "print(f'Percentil 75: {T1[\"ABV\"].quantile(0.75)}')\n",
    "print(f'Percentil 90: {T1[\"ABV\"].quantile(0.9)}')\n",
    "print(f'Percentil 100: {T1[\"ABV\"].quantile(1)}')\n",
    "print(f'Valor máximo: {T1[\"ABV\"].max()}')"
   ]
  },
  {
   "cell_type": "markdown",
   "metadata": {},
   "source": [
    "### Rango Intercuantilico"
   ]
  },
  {
   "cell_type": "code",
   "execution_count": 139,
   "metadata": {},
   "outputs": [],
   "source": [
    "iqr = T1['ABV'].quantile(0.75) - T1['ABV'].quantile(0.25)\n",
    "filtro_inferior = T1['ABV'] > T1['ABV'].quantile(0.25) - (iqr * 1.5)\n",
    "filtro_superior = T1['ABV'] < T1['ABV'].quantile(0.75) + (iqr * 1.5)\n",
    "\n",
    "abv_filtrado = T1[filtro_inferior & filtro_superior]"
   ]
  },
  {
   "cell_type": "code",
   "execution_count": 140,
   "metadata": {},
   "outputs": [
    {
     "data": {
      "image/png": "[encoded data removed]",
      "text/plain": [
       "<Figure size 432x288 with 1 Axes>"
      ]
     },
     "metadata": {},
     "output_type": "display_data"
    }
   ],
   "source": [
    "sns.boxplot(x=abv_filtrado['ABV']);"
   ]
  },
  {
   "cell_type": "code",
   "execution_count": 141,
   "metadata": {},
   "outputs": [
    {
     "data": {
      "image/png": "[encoded data removed]",
      "text/plain": [
       "<Figure size 432x288 with 1 Axes>"
      ]
     },
     "metadata": {},
     "output_type": "display_data"
    }
   ],
   "source": [
    "sns.set_style(\"whitegrid\")\n",
    "sns.boxplot(x=T1['IBU']);\n",
    "plt.axvline(T1['IBU'].mean(), c='y');"
   ]
  },
  {
   "cell_type": "code",
   "execution_count": 142,
   "metadata": {},
   "outputs": [
    {
     "name": "stdout",
     "output_type": "stream",
     "text": [
      "Valor mínimo: 0.0\n",
      "Percentil 0: 0.0\n",
      "Percentil 10: 20.68\n",
      "Percentil 25: 32.54\n",
      "Promedio: 46.42\n",
      "Mediana: 46.42\n",
      "Percentil 75: 66.89\n",
      "Percentil 90: 90.58399999999997\n",
      "Percentil 100: 2197.07\n",
      "Valor máximo: 2197.07\n"
     ]
    }
   ],
   "source": [
    "print(f'Valor mínimo: {T1[\"IBU\"].min()}')\n",
    "print(f'Percentil 0: {T1[\"IBU\"].quantile(0)}')\n",
    "print(f'Percentil 10: {T1[\"IBU\"].quantile(0.1)}')\n",
    "print(f'Percentil 25: {T1[\"IBU\"].quantile(0.25)}')\n",
    "print(f'Promedio: {T1[\"IBU\"].median()}')\n",
    "print(f'Mediana: {T1[\"IBU\"].quantile(0.5)}')\n",
    "print(f'Percentil 75: {T1[\"IBU\"].quantile(0.75)}')\n",
    "print(f'Percentil 90: {T1[\"IBU\"].quantile(0.9)}')\n",
    "print(f'Percentil 100: {T1[\"IBU\"].quantile(1)}')\n",
    "print(f'Valor máximo: {T1[\"IBU\"].max()}')"
   ]
  },
  {
   "cell_type": "code",
   "execution_count": 143,
   "metadata": {},
   "outputs": [
    {
     "data": {
      "image/png": "[encoded data removed]",
      "text/plain": [
       "<Figure size 432x288 with 1 Axes>"
      ]
     },
     "metadata": {},
     "output_type": "display_data"
    }
   ],
   "source": [
    "sns.set_style(\"whitegrid\")\n",
    "sns.boxplot(x=T1['Color']);\n",
    "plt.axvline(T1['Color'].mean(), c='y');"
   ]
  },
  {
   "cell_type": "code",
   "execution_count": 144,
   "metadata": {},
   "outputs": [
    {
     "name": "stdout",
     "output_type": "stream",
     "text": [
      "Valor mínimo: 0.0\n",
      "Percentil 0: 0.0\n",
      "Percentil 10: 4.09\n",
      "Percentil 25: 5.31\n",
      "Promedio: 7.01\n",
      "Mediana: 7.01\n",
      "Percentil 75: 9.69\n",
      "Percentil 90: 13.7\n",
      "Percentil 100: 50.0\n",
      "Valor máximo: 50.0\n"
     ]
    }
   ],
   "source": [
    "print(f'Valor mínimo: {T1[\"Color\"].min()}')\n",
    "print(f'Percentil 0: {T1[\"Color\"].quantile(0)}')\n",
    "print(f'Percentil 10: {T1[\"Color\"].quantile(0.1)}')\n",
    "print(f'Percentil 25: {T1[\"Color\"].quantile(0.25)}')\n",
    "print(f'Promedio: {T1[\"Color\"].median()}')\n",
    "print(f'Mediana: {T1[\"Color\"].quantile(0.5)}')\n",
    "print(f'Percentil 75: {T1[\"Color\"].quantile(0.75)}')\n",
    "print(f'Percentil 90: {T1[\"Color\"].quantile(0.9)}')\n",
    "print(f'Percentil 100: {T1[\"Color\"].quantile(1)}')\n",
    "print(f'Valor máximo: {T1[\"Color\"].max()}')"
   ]
  },
  {
   "cell_type": "code",
   "execution_count": 145,
   "metadata": {},
   "outputs": [
    {
     "name": "stdout",
     "output_type": "stream",
     "text": [
      "{7: 'American IPA', 10: 'American Pale Ale', 134: 'Saison', 4: 'American Amber Ale', 9: 'American Light Lager'}\n"
     ]
    }
   ],
   "source": [
    "pred=dict(zip(T1.StyleID.unique(),T1.Style.unique()))\n",
    "print(pred)"
   ]
  },
  {
   "cell_type": "code",
   "execution_count": 146,
   "metadata": {},
   "outputs": [
    {
     "name": "stdout",
     "output_type": "stream",
     "text": [
      "American IPA            11940\n",
      "American Pale Ale        7581\n",
      "Saison                   2617\n",
      "American Light Lager     2277\n",
      "American Amber Ale       2038\n",
      "Name: Style, dtype: int64\n"
     ]
    }
   ],
   "source": [
    "print(T1[\"Style\"].value_counts())"
   ]
  },
  {
   "cell_type": "markdown",
   "metadata": {},
   "source": [
    "## Matriz de Correlación"
   ]
  },
  {
   "cell_type": "code",
   "execution_count": 171,
   "metadata": {},
   "outputs": [],
   "source": [
    "beers_filtered = beers.drop(columns=['Name','URL','Style','StyleID','SugarScale','BrewMethod'])"
   ]
  },
  {
   "cell_type": "code",
   "execution_count": 172,
   "metadata": {},
   "outputs": [
    {
     "data": {
      "text/html": [
       "<div>\n",
       "<style scoped>\n",
       "    .dataframe tbody tr th:only-of-type {\n",
       "        vertical-align: middle;\n",
       "    }\n",
       "\n",
       "    .dataframe tbody tr th {\n",
       "        vertical-align: top;\n",
       "    }\n",
       "\n",
       "    .dataframe thead th {\n",
       "        text-align: right;\n",
       "    }\n",
       "</style>\n",
       "<table border=\"1\" class=\"dataframe\">\n",
       "  <thead>\n",
       "    <tr style=\"text-align: right;\">\n",
       "      <th></th>\n",
       "      <th>Size(L)</th>\n",
       "      <th>OG</th>\n",
       "      <th>FG</th>\n",
       "      <th>ABV</th>\n",
       "      <th>IBU</th>\n",
       "      <th>Color</th>\n",
       "      <th>BoilSize</th>\n",
       "      <th>BoilTime</th>\n",
       "      <th>BoilGravity</th>\n",
       "      <th>Efficiency</th>\n",
       "    </tr>\n",
       "  </thead>\n",
       "  <tbody>\n",
       "    <tr>\n",
       "      <th>Size(L)</th>\n",
       "      <td>1.000000</td>\n",
       "      <td>0.161092</td>\n",
       "      <td>0.143493</td>\n",
       "      <td>-0.013559</td>\n",
       "      <td>-0.031297</td>\n",
       "      <td>-0.018027</td>\n",
       "      <td>0.994130</td>\n",
       "      <td>0.044319</td>\n",
       "      <td>0.175211</td>\n",
       "      <td>0.109147</td>\n",
       "    </tr>\n",
       "    <tr>\n",
       "      <th>OG</th>\n",
       "      <td>0.161092</td>\n",
       "      <td>1.000000</td>\n",
       "      <td>0.947101</td>\n",
       "      <td>0.030531</td>\n",
       "      <td>-0.001688</td>\n",
       "      <td>0.013867</td>\n",
       "      <td>0.163952</td>\n",
       "      <td>0.032138</td>\n",
       "      <td>0.962457</td>\n",
       "      <td>0.067906</td>\n",
       "    </tr>\n",
       "    <tr>\n",
       "      <th>FG</th>\n",
       "      <td>0.143493</td>\n",
       "      <td>0.947101</td>\n",
       "      <td>1.000000</td>\n",
       "      <td>0.030034</td>\n",
       "      <td>-0.000198</td>\n",
       "      <td>0.031220</td>\n",
       "      <td>0.144821</td>\n",
       "      <td>0.032104</td>\n",
       "      <td>0.912729</td>\n",
       "      <td>0.062034</td>\n",
       "    </tr>\n",
       "    <tr>\n",
       "      <th>ABV</th>\n",
       "      <td>-0.013559</td>\n",
       "      <td>0.030531</td>\n",
       "      <td>0.030034</td>\n",
       "      <td>1.000000</td>\n",
       "      <td>0.282502</td>\n",
       "      <td>0.270414</td>\n",
       "      <td>-0.009858</td>\n",
       "      <td>0.120464</td>\n",
       "      <td>0.026138</td>\n",
       "      <td>0.048193</td>\n",
       "    </tr>\n",
       "    <tr>\n",
       "      <th>IBU</th>\n",
       "      <td>-0.031297</td>\n",
       "      <td>-0.001688</td>\n",
       "      <td>-0.000198</td>\n",
       "      <td>0.282502</td>\n",
       "      <td>1.000000</td>\n",
       "      <td>0.062148</td>\n",
       "      <td>-0.029663</td>\n",
       "      <td>0.079896</td>\n",
       "      <td>-0.006899</td>\n",
       "      <td>-0.032648</td>\n",
       "    </tr>\n",
       "    <tr>\n",
       "      <th>Color</th>\n",
       "      <td>-0.018027</td>\n",
       "      <td>0.013867</td>\n",
       "      <td>0.031220</td>\n",
       "      <td>0.270414</td>\n",
       "      <td>0.062148</td>\n",
       "      <td>1.000000</td>\n",
       "      <td>-0.016752</td>\n",
       "      <td>0.057795</td>\n",
       "      <td>0.013287</td>\n",
       "      <td>-0.017765</td>\n",
       "    </tr>\n",
       "    <tr>\n",
       "      <th>BoilSize</th>\n",
       "      <td>0.994130</td>\n",
       "      <td>0.163952</td>\n",
       "      <td>0.144821</td>\n",
       "      <td>-0.009858</td>\n",
       "      <td>-0.029663</td>\n",
       "      <td>-0.016752</td>\n",
       "      <td>1.000000</td>\n",
       "      <td>0.050637</td>\n",
       "      <td>0.175031</td>\n",
       "      <td>0.122405</td>\n",
       "    </tr>\n",
       "    <tr>\n",
       "      <th>BoilTime</th>\n",
       "      <td>0.044319</td>\n",
       "      <td>0.032138</td>\n",
       "      <td>0.032104</td>\n",
       "      <td>0.120464</td>\n",
       "      <td>0.079896</td>\n",
       "      <td>0.057795</td>\n",
       "      <td>0.050637</td>\n",
       "      <td>1.000000</td>\n",
       "      <td>0.027023</td>\n",
       "      <td>0.161862</td>\n",
       "    </tr>\n",
       "    <tr>\n",
       "      <th>BoilGravity</th>\n",
       "      <td>0.175211</td>\n",
       "      <td>0.962457</td>\n",
       "      <td>0.912729</td>\n",
       "      <td>0.026138</td>\n",
       "      <td>-0.006899</td>\n",
       "      <td>0.013287</td>\n",
       "      <td>0.175031</td>\n",
       "      <td>0.027023</td>\n",
       "      <td>1.000000</td>\n",
       "      <td>0.058386</td>\n",
       "    </tr>\n",
       "    <tr>\n",
       "      <th>Efficiency</th>\n",
       "      <td>0.109147</td>\n",
       "      <td>0.067906</td>\n",
       "      <td>0.062034</td>\n",
       "      <td>0.048193</td>\n",
       "      <td>-0.032648</td>\n",
       "      <td>-0.017765</td>\n",
       "      <td>0.122405</td>\n",
       "      <td>0.161862</td>\n",
       "      <td>0.058386</td>\n",
       "      <td>1.000000</td>\n",
       "    </tr>\n",
       "  </tbody>\n",
       "</table>\n",
       "</div>"
      ],
      "text/plain": [
       "              Size(L)        OG        FG       ABV       IBU     Color  \\\n",
       "Size(L)      1.000000  0.161092  0.143493 -0.013559 -0.031297 -0.018027   \n",
       "OG           0.161092  1.000000  0.947101  0.030531 -0.001688  0.013867   \n",
       "FG           0.143493  0.947101  1.000000  0.030034 -0.000198  0.031220   \n",
       "ABV         -0.013559  0.030531  0.030034  1.000000  0.282502  0.270414   \n",
       "IBU         -0.031297 -0.001688 -0.000198  0.282502  1.000000  0.062148   \n",
       "Color       -0.018027  0.013867  0.031220  0.270414  0.062148  1.000000   \n",
       "BoilSize     0.994130  0.163952  0.144821 -0.009858 -0.029663 -0.016752   \n",
       "BoilTime     0.044319  0.032138  0.032104  0.120464  0.079896  0.057795   \n",
       "BoilGravity  0.175211  0.962457  0.912729  0.026138 -0.006899  0.013287   \n",
       "Efficiency   0.109147  0.067906  0.062034  0.048193 -0.032648 -0.017765   \n",
       "\n",
       "             BoilSize  BoilTime  BoilGravity  Efficiency  \n",
       "Size(L)      0.994130  0.044319     0.175211    0.109147  \n",
       "OG           0.163952  0.032138     0.962457    0.067906  \n",
       "FG           0.144821  0.032104     0.912729    0.062034  \n",
       "ABV         -0.009858  0.120464     0.026138    0.048193  \n",
       "IBU         -0.029663  0.079896    -0.006899   -0.032648  \n",
       "Color       -0.016752  0.057795     0.013287   -0.017765  \n",
       "BoilSize     1.000000  0.050637     0.175031    0.122405  \n",
       "BoilTime     0.050637  1.000000     0.027023    0.161862  \n",
       "BoilGravity  0.175031  0.027023     1.000000    0.058386  \n",
       "Efficiency   0.122405  0.161862     0.058386    1.000000  "
      ]
     },
     "execution_count": 172,
     "metadata": {},
     "output_type": "execute_result"
    }
   ],
   "source": [
    "beers_filtered.corr()"
   ]
  },
  {
   "cell_type": "code",
   "execution_count": 147,
   "metadata": {},
   "outputs": [],
   "source": [
    "T1_filtered = T1.drop(columns=['Name','URL','Style','StyleID','SugarScale','BrewMethod'])"
   ]
  },
  {
   "cell_type": "code",
   "execution_count": 148,
   "metadata": {},
   "outputs": [
    {
     "data": {
      "text/html": [
       "<div>\n",
       "<style scoped>\n",
       "    .dataframe tbody tr th:only-of-type {\n",
       "        vertical-align: middle;\n",
       "    }\n",
       "\n",
       "    .dataframe tbody tr th {\n",
       "        vertical-align: top;\n",
       "    }\n",
       "\n",
       "    .dataframe thead th {\n",
       "        text-align: right;\n",
       "    }\n",
       "</style>\n",
       "<table border=\"1\" class=\"dataframe\">\n",
       "  <thead>\n",
       "    <tr style=\"text-align: right;\">\n",
       "      <th></th>\n",
       "      <th>Size(L)</th>\n",
       "      <th>OG</th>\n",
       "      <th>FG</th>\n",
       "      <th>ABV</th>\n",
       "      <th>IBU</th>\n",
       "      <th>Color</th>\n",
       "      <th>BoilSize</th>\n",
       "      <th>BoilTime</th>\n",
       "      <th>BoilGravity</th>\n",
       "      <th>Efficiency</th>\n",
       "    </tr>\n",
       "  </thead>\n",
       "  <tbody>\n",
       "    <tr>\n",
       "      <th>Size(L)</th>\n",
       "      <td>1.000000</td>\n",
       "      <td>0.202692</td>\n",
       "      <td>0.193893</td>\n",
       "      <td>-0.010173</td>\n",
       "      <td>-0.043562</td>\n",
       "      <td>-0.013346</td>\n",
       "      <td>0.995927</td>\n",
       "      <td>0.059370</td>\n",
       "      <td>0.224569</td>\n",
       "      <td>0.118369</td>\n",
       "    </tr>\n",
       "    <tr>\n",
       "      <th>OG</th>\n",
       "      <td>0.202692</td>\n",
       "      <td>1.000000</td>\n",
       "      <td>0.958512</td>\n",
       "      <td>0.019562</td>\n",
       "      <td>-0.011740</td>\n",
       "      <td>-0.006817</td>\n",
       "      <td>0.202898</td>\n",
       "      <td>0.030023</td>\n",
       "      <td>0.974247</td>\n",
       "      <td>0.064450</td>\n",
       "    </tr>\n",
       "    <tr>\n",
       "      <th>FG</th>\n",
       "      <td>0.193893</td>\n",
       "      <td>0.958512</td>\n",
       "      <td>1.000000</td>\n",
       "      <td>0.019544</td>\n",
       "      <td>-0.009336</td>\n",
       "      <td>-0.002757</td>\n",
       "      <td>0.193687</td>\n",
       "      <td>0.029012</td>\n",
       "      <td>0.932200</td>\n",
       "      <td>0.061340</td>\n",
       "    </tr>\n",
       "    <tr>\n",
       "      <th>ABV</th>\n",
       "      <td>-0.010173</td>\n",
       "      <td>0.019562</td>\n",
       "      <td>0.019544</td>\n",
       "      <td>1.000000</td>\n",
       "      <td>0.229750</td>\n",
       "      <td>0.183510</td>\n",
       "      <td>-0.007774</td>\n",
       "      <td>0.079379</td>\n",
       "      <td>0.015627</td>\n",
       "      <td>0.095326</td>\n",
       "    </tr>\n",
       "    <tr>\n",
       "      <th>IBU</th>\n",
       "      <td>-0.043562</td>\n",
       "      <td>-0.011740</td>\n",
       "      <td>-0.009336</td>\n",
       "      <td>0.229750</td>\n",
       "      <td>1.000000</td>\n",
       "      <td>0.038525</td>\n",
       "      <td>-0.043002</td>\n",
       "      <td>0.060094</td>\n",
       "      <td>-0.016788</td>\n",
       "      <td>-0.039238</td>\n",
       "    </tr>\n",
       "    <tr>\n",
       "      <th>Color</th>\n",
       "      <td>-0.013346</td>\n",
       "      <td>-0.006817</td>\n",
       "      <td>-0.002757</td>\n",
       "      <td>0.183510</td>\n",
       "      <td>0.038525</td>\n",
       "      <td>1.000000</td>\n",
       "      <td>-0.013541</td>\n",
       "      <td>0.018116</td>\n",
       "      <td>-0.007731</td>\n",
       "      <td>-0.050757</td>\n",
       "    </tr>\n",
       "    <tr>\n",
       "      <th>BoilSize</th>\n",
       "      <td>0.995927</td>\n",
       "      <td>0.202898</td>\n",
       "      <td>0.193687</td>\n",
       "      <td>-0.007774</td>\n",
       "      <td>-0.043002</td>\n",
       "      <td>-0.013541</td>\n",
       "      <td>1.000000</td>\n",
       "      <td>0.065787</td>\n",
       "      <td>0.222424</td>\n",
       "      <td>0.132632</td>\n",
       "    </tr>\n",
       "    <tr>\n",
       "      <th>BoilTime</th>\n",
       "      <td>0.059370</td>\n",
       "      <td>0.030023</td>\n",
       "      <td>0.029012</td>\n",
       "      <td>0.079379</td>\n",
       "      <td>0.060094</td>\n",
       "      <td>0.018116</td>\n",
       "      <td>0.065787</td>\n",
       "      <td>1.000000</td>\n",
       "      <td>0.029209</td>\n",
       "      <td>0.159229</td>\n",
       "    </tr>\n",
       "    <tr>\n",
       "      <th>BoilGravity</th>\n",
       "      <td>0.224569</td>\n",
       "      <td>0.974247</td>\n",
       "      <td>0.932200</td>\n",
       "      <td>0.015627</td>\n",
       "      <td>-0.016788</td>\n",
       "      <td>-0.007731</td>\n",
       "      <td>0.222424</td>\n",
       "      <td>0.029209</td>\n",
       "      <td>1.000000</td>\n",
       "      <td>0.058715</td>\n",
       "    </tr>\n",
       "    <tr>\n",
       "      <th>Efficiency</th>\n",
       "      <td>0.118369</td>\n",
       "      <td>0.064450</td>\n",
       "      <td>0.061340</td>\n",
       "      <td>0.095326</td>\n",
       "      <td>-0.039238</td>\n",
       "      <td>-0.050757</td>\n",
       "      <td>0.132632</td>\n",
       "      <td>0.159229</td>\n",
       "      <td>0.058715</td>\n",
       "      <td>1.000000</td>\n",
       "    </tr>\n",
       "  </tbody>\n",
       "</table>\n",
       "</div>"
      ],
      "text/plain": [
       "              Size(L)        OG        FG       ABV       IBU     Color  \\\n",
       "Size(L)      1.000000  0.202692  0.193893 -0.010173 -0.043562 -0.013346   \n",
       "OG           0.202692  1.000000  0.958512  0.019562 -0.011740 -0.006817   \n",
       "FG           0.193893  0.958512  1.000000  0.019544 -0.009336 -0.002757   \n",
       "ABV         -0.010173  0.019562  0.019544  1.000000  0.229750  0.183510   \n",
       "IBU         -0.043562 -0.011740 -0.009336  0.229750  1.000000  0.038525   \n",
       "Color       -0.013346 -0.006817 -0.002757  0.183510  0.038525  1.000000   \n",
       "BoilSize     0.995927  0.202898  0.193687 -0.007774 -0.043002 -0.013541   \n",
       "BoilTime     0.059370  0.030023  0.029012  0.079379  0.060094  0.018116   \n",
       "BoilGravity  0.224569  0.974247  0.932200  0.015627 -0.016788 -0.007731   \n",
       "Efficiency   0.118369  0.064450  0.061340  0.095326 -0.039238 -0.050757   \n",
       "\n",
       "             BoilSize  BoilTime  BoilGravity  Efficiency  \n",
       "Size(L)      0.995927  0.059370     0.224569    0.118369  \n",
       "OG           0.202898  0.030023     0.974247    0.064450  \n",
       "FG           0.193687  0.029012     0.932200    0.061340  \n",
       "ABV         -0.007774  0.079379     0.015627    0.095326  \n",
       "IBU         -0.043002  0.060094    -0.016788   -0.039238  \n",
       "Color       -0.013541  0.018116    -0.007731   -0.050757  \n",
       "BoilSize     1.000000  0.065787     0.222424    0.132632  \n",
       "BoilTime     0.065787  1.000000     0.029209    0.159229  \n",
       "BoilGravity  0.222424  0.029209     1.000000    0.058715  \n",
       "Efficiency   0.132632  0.159229     0.058715    1.000000  "
      ]
     },
     "execution_count": 148,
     "metadata": {},
     "output_type": "execute_result"
    }
   ],
   "source": [
    "T1_filtered.corr()"
   ]
  },
  {
   "cell_type": "code",
   "execution_count": 173,
   "metadata": {},
   "outputs": [
    {
     "data": {
      "image/png": "[encoded data removed]",
      "text/plain": [
       "<Figure size 576x432 with 2 Axes>"
      ]
     },
     "metadata": {},
     "output_type": "display_data"
    }
   ],
   "source": [
    "plt.figure(figsize=(8, 6))\n",
    "ax = sns.heatmap(beers_filtered.corr(), vmin=-1, vmax=1, annot=True, cmap=\"YlGnBu\", linewidths=.5);"
   ]
  },
  {
   "cell_type": "code",
   "execution_count": 174,
   "metadata": {},
   "outputs": [
    {
     "data": {
      "image/png": "[encoded data removed]",
      "text/plain": [
       "<Figure size 432x288 with 1 Axes>"
      ]
     },
     "metadata": {},
     "output_type": "display_data"
    }
   ],
   "source": [
    "sns.scatterplot(x=beers['Size(L)'], y=beers['BoilSize']);"
   ]
  },
  {
   "cell_type": "code",
   "execution_count": 192,
   "metadata": {},
   "outputs": [
    {
     "data": {
      "image/png": "[encoded data removed]",
      "text/plain": [
       "<Figure size 432x288 with 1 Axes>"
      ]
     },
     "metadata": {},
     "output_type": "display_data"
    }
   ],
   "source": [
    "sns.scatterplot(x=beers['BoilGravity'], y=beers['OG']);"
   ]
  },
  {
   "cell_type": "code",
   "execution_count": 248,
   "metadata": {},
   "outputs": [
    {
     "data": {
      "image/png": "[encoded data removed]",
      "text/plain": [
       "<Figure size 432x288 with 1 Axes>"
      ]
     },
     "metadata": {},
     "output_type": "display_data"
    }
   ],
   "source": [
    "sns.scatterplot(x=beers['IBU'], y=beers['ABV']);"
   ]
  },
  {
   "cell_type": "markdown",
   "metadata": {},
   "source": [
    "## Regresión lineal simple"
   ]
  },
  {
   "cell_type": "markdown",
   "metadata": {},
   "source": [
    "### BoilGravity vs OG"
   ]
  },
  {
   "cell_type": "code",
   "execution_count": 151,
   "metadata": {},
   "outputs": [],
   "source": [
    "from sklearn.linear_model import LinearRegression\n",
    "from sklearn.metrics import r2_score"
   ]
  },
  {
   "cell_type": "code",
   "execution_count": 193,
   "metadata": {},
   "outputs": [
    {
     "data": {
      "text/plain": [
       "LinearRegression()"
      ]
     },
     "execution_count": 193,
     "metadata": {},
     "output_type": "execute_result"
    }
   ],
   "source": [
    "lr = LinearRegression()\n",
    "bg = beers['BoilGravity']\n",
    "og = beers['OG']\n",
    "# Usamos `to_frame` para convertir nuestra Serie en una estructura de 2 dimensiones, como lo requiere el modelo\n",
    "lr.fit(bg.to_frame(), og)"
   ]
  },
  {
   "cell_type": "code",
   "execution_count": 194,
   "metadata": {},
   "outputs": [],
   "source": [
    "y_predict = lr.predict(bg.to_frame())"
   ]
  },
  {
   "cell_type": "code",
   "execution_count": 195,
   "metadata": {},
   "outputs": [
    {
     "data": {
      "image/png": "[encoded data removed]",
      "text/plain": [
       "<Figure size 432x288 with 1 Axes>"
      ]
     },
     "metadata": {},
     "output_type": "display_data"
    }
   ],
   "source": [
    "sns.scatterplot(x=bg, y=og, s=40);\n",
    "sns.scatterplot(x=bg, y=y_predict, s=25);"
   ]
  },
  {
   "cell_type": "code",
   "execution_count": 196,
   "metadata": {},
   "outputs": [
    {
     "data": {
      "image/png": "[encoded data removed]",
      "text/plain": [
       "<Figure size 432x288 with 1 Axes>"
      ]
     },
     "metadata": {},
     "output_type": "display_data"
    }
   ],
   "source": [
    "sns.scatterplot(x=bg, y=og, s=40);\n",
    "sns.lineplot(x=bg, y=y_predict, color='#FF7F0E');"
   ]
  },
  {
   "cell_type": "code",
   "execution_count": 197,
   "metadata": {},
   "outputs": [],
   "source": [
    "intercept = lr.intercept_\n",
    "coefficient = lr.coef_[0]"
   ]
  },
  {
   "cell_type": "code",
   "execution_count": 198,
   "metadata": {},
   "outputs": [
    {
     "name": "stdout",
     "output_type": "stream",
     "text": [
      "y = 1.1195206078374065 * x + -0.10787330269927087\n"
     ]
    }
   ],
   "source": [
    "print(f'y = {coefficient} * x + {intercept}')"
   ]
  },
  {
   "cell_type": "code",
   "execution_count": 199,
   "metadata": {},
   "outputs": [
    {
     "data": {
      "text/plain": [
       "BeerID\n",
       "1        1.038\n",
       "2        1.070\n",
       "3        1.350\n",
       "4        1.350\n",
       "5        1.050\n",
       "         ...  \n",
       "73856    1.098\n",
       "73857    1.060\n",
       "73858    1.034\n",
       "73860    1.043\n",
       "73861    1.056\n",
       "Name: BoilGravity, Length: 73264, dtype: float64"
      ]
     },
     "execution_count": 199,
     "metadata": {},
     "output_type": "execute_result"
    }
   ],
   "source": [
    "bg"
   ]
  },
  {
   "cell_type": "code",
   "execution_count": 200,
   "metadata": {},
   "outputs": [
    {
     "data": {
      "text/plain": [
       "BeerID\n",
       "1        1.055\n",
       "2        1.083\n",
       "3        1.063\n",
       "4        1.061\n",
       "5        1.060\n",
       "         ...  \n",
       "73856    1.065\n",
       "73857    1.052\n",
       "73858    1.059\n",
       "73860    1.051\n",
       "73861    1.060\n",
       "Name: OG, Length: 73264, dtype: float64"
      ]
     },
     "execution_count": 200,
     "metadata": {},
     "output_type": "execute_result"
    }
   ],
   "source": [
    "og"
   ]
  },
  {
   "cell_type": "code",
   "execution_count": 203,
   "metadata": {},
   "outputs": [
    {
     "name": "stdout",
     "output_type": "stream",
     "text": [
      "Valor de x: 1.35\n",
      "Valor predecido por nuestro modelo: 1.403479517881228\n",
      "Valor cuantificado directamente usando la funcion: 1.082177103431892\n"
     ]
    }
   ],
   "source": [
    "print(f'Valor de x: {bg[3]}')\n",
    "print(f'Valor predecido por nuestro modelo: {y_predict[3]}')\n",
    "print(f'Valor cuantificado directamente usando la funcion: {coefficient * og[3] + intercept}')"
   ]
  },
  {
   "cell_type": "code",
   "execution_count": 204,
   "metadata": {},
   "outputs": [
    {
     "name": "stdout",
     "output_type": "stream",
     "text": [
      "Valor de x: 1.35\n",
      "Valor predecido por nuestro modelo: 1.067623335530006\n",
      "Valor cuantificado directamente usando la funcion: 1.403479517881228\n"
     ]
    }
   ],
   "source": [
    "print(f'Valor de x: {bg[4]}')\n",
    "print(f'Valor predecido por nuestro modelo: {y_predict[4]}')\n",
    "print(f'Valor cuantificado directamente usando la funcion: {coefficient * bg[4] + intercept}')"
   ]
  },
  {
   "cell_type": "code",
   "execution_count": 206,
   "metadata": {},
   "outputs": [
    {
     "name": "stdout",
     "output_type": "stream",
     "text": [
      "Valor de x: 1.047\n",
      "Valor predecido por nuestro modelo: 1.403479517881228\n",
      "Valor cuantificado directamente usando la funcion: 1.0642647737064936\n"
     ]
    }
   ],
   "source": [
    "print(f'Valor de x: {bg[6]}')\n",
    "print(f'Valor predecido por nuestro modelo: {y_predict[6]}')\n",
    "print(f'Valor cuantificado directamente usando la funcion: {coefficient * bg[6] + intercept}')"
   ]
  },
  {
   "cell_type": "code",
   "execution_count": 207,
   "metadata": {},
   "outputs": [
    {
     "name": "stdout",
     "output_type": "stream",
     "text": [
      "Valor de x: 1.053\n",
      "Valor predecido por nuestro modelo: 1.0441134027654202\n",
      "Valor cuantificado directamente usando la funcion: 1.0709818973535181\n"
     ]
    }
   ],
   "source": [
    "print(f'Valor de x: {bg[58089]}')\n",
    "print(f'Valor predecido por nuestro modelo: {y_predict[58089]}')\n",
    "print(f'Valor cuantificado directamente usando la funcion: {coefficient * bg[58089] + intercept}')"
   ]
  },
  {
   "cell_type": "code",
   "execution_count": 208,
   "metadata": {},
   "outputs": [
    {
     "name": "stdout",
     "output_type": "stream",
     "text": [
      "R2: 0.9263236315755409\n"
     ]
    }
   ],
   "source": [
    "print(f'R2: {np.power(bg.corr(og), 2)}')"
   ]
  },
  {
   "cell_type": "code",
   "execution_count": 209,
   "metadata": {},
   "outputs": [
    {
     "name": "stdout",
     "output_type": "stream",
     "text": [
      "R2: 0.9263236315755404\n"
     ]
    }
   ],
   "source": [
    "print(f'R2: {lr.score(bg.to_frame(), og)}')"
   ]
  },
  {
   "cell_type": "markdown",
   "metadata": {},
   "source": [
    "### IBU vs ABV"
   ]
  },
  {
   "cell_type": "code",
   "execution_count": 249,
   "metadata": {},
   "outputs": [
    {
     "data": {
      "text/plain": [
       "LinearRegression()"
      ]
     },
     "execution_count": 249,
     "metadata": {},
     "output_type": "execute_result"
    }
   ],
   "source": [
    "ibu = beers['IBU']\n",
    "abv = beers['ABV']\n",
    "# Usamos `to_frame` para convertir nuestra Serie en una estructura de 2 dimensiones, como lo requiere el modelo\n",
    "lr.fit(ibu.to_frame(), abv)"
   ]
  },
  {
   "cell_type": "code",
   "execution_count": 250,
   "metadata": {},
   "outputs": [],
   "source": [
    "y2_predict = lr.predict(ibu.to_frame())"
   ]
  },
  {
   "cell_type": "code",
   "execution_count": 251,
   "metadata": {},
   "outputs": [
    {
     "data": {
      "image/png": "[encoded data removed]",
      "text/plain": [
       "<Figure size 432x288 with 1 Axes>"
      ]
     },
     "metadata": {},
     "output_type": "display_data"
    }
   ],
   "source": [
    "sns.scatterplot(x=ibu, y=abv, s=40);\n",
    "sns.scatterplot(x=ibu, y=y2_predict, s=25);"
   ]
  },
  {
   "cell_type": "code",
   "execution_count": 253,
   "metadata": {},
   "outputs": [
    {
     "name": "stdout",
     "output_type": "stream",
     "text": [
      "Valor de x: 59.25\n",
      "Valor predecido por nuestro modelo: 6.267017014454342\n",
      "Valor cuantificado directamente usando la funcion: 66.22372271166707\n"
     ]
    }
   ],
   "source": [
    "print(f'Valor de x: {ibu[3]}')\n",
    "print(f'Valor predecido por nuestro modelo: {y2_predict[3]}')\n",
    "print(f'Valor cuantificado directamente usando la funcion: {coefficient * ibu[3] + intercept}')"
   ]
  },
  {
   "cell_type": "code",
   "execution_count": 255,
   "metadata": {},
   "outputs": [
    {
     "name": "stdout",
     "output_type": "stream",
     "text": [
      "R2: 0.0798074045790992\n"
     ]
    }
   ],
   "source": [
    "print(f'R2: {np.power(ibu.corr(abv), 2)}')"
   ]
  },
  {
   "cell_type": "markdown",
   "metadata": {},
   "source": [
    "## Regresión lineal multiple (Entrenamiento y Prueba)"
   ]
  },
  {
   "cell_type": "markdown",
   "metadata": {},
   "source": [
    "Vamos a intentar predecir la gravedad específica del mosto antes de hervir usando un análisis multivariable"
   ]
  },
  {
   "cell_type": "code",
   "execution_count": 210,
   "metadata": {},
   "outputs": [],
   "source": [
    "from sklearn.model_selection import train_test_split"
   ]
  },
  {
   "cell_type": "code",
   "execution_count": 225,
   "metadata": {},
   "outputs": [],
   "source": [
    "X = beers[['BoilGravity','FG']]\n",
    "y = beers['OG']"
   ]
  },
  {
   "cell_type": "code",
   "execution_count": 226,
   "metadata": {},
   "outputs": [],
   "source": [
    "X_training, X_test, y_training, y_test = train_test_split(X, y, test_size=0.3, shuffle=True)"
   ]
  },
  {
   "cell_type": "code",
   "execution_count": 213,
   "metadata": {},
   "outputs": [],
   "source": [
    "from sklearn.linear_model import LinearRegression"
   ]
  },
  {
   "cell_type": "code",
   "execution_count": 227,
   "metadata": {},
   "outputs": [
    {
     "data": {
      "text/plain": [
       "LinearRegression()"
      ]
     },
     "execution_count": 227,
     "metadata": {},
     "output_type": "execute_result"
    }
   ],
   "source": [
    "lr_multiple = linear_model.LinearRegression()\n",
    "lr_multiple.fit(X_training, y_training)"
   ]
  },
  {
   "cell_type": "code",
   "execution_count": 228,
   "metadata": {},
   "outputs": [
    {
     "data": {
      "text/plain": [
       "0.9514919799896169"
      ]
     },
     "execution_count": 228,
     "metadata": {},
     "output_type": "execute_result"
    }
   ],
   "source": [
    "lr_multiple.score(X_test, y_test)"
   ]
  },
  {
   "cell_type": "code",
   "execution_count": 229,
   "metadata": {},
   "outputs": [],
   "source": [
    "y_pred_multiple = lr_multiple.predict(X_test)"
   ]
  },
  {
   "cell_type": "code",
   "execution_count": 230,
   "metadata": {},
   "outputs": [
    {
     "name": "stdout",
     "output_type": "stream",
     "text": [
      "[1.04427609 1.13355793 1.09294326 ... 1.06509733 1.08174083 1.05055954]\n"
     ]
    }
   ],
   "source": [
    "print(y_pred_multiple)"
   ]
  },
  {
   "cell_type": "code",
   "execution_count": 233,
   "metadata": {},
   "outputs": [
    {
     "name": "stdout",
     "output_type": "stream",
     "text": [
      "Valor de x: 1.05\n",
      "Valor predecido por nuestro modelo: 1.1025789228608023\n"
     ]
    }
   ],
   "source": [
    "print(f'Valor de x: {bg[5]}')\n",
    "print(f'Valor predecido por nuestro modelo: {y_pred_multiple[5]}')"
   ]
  },
  {
   "cell_type": "code",
   "execution_count": null,
   "metadata": {},
   "outputs": [],
   "source": []
  },
  {
   "cell_type": "code",
   "execution_count": 91,
   "metadata": {},
   "outputs": [],
   "source": []
  },
  {
   "cell_type": "code",
   "execution_count": 92,
   "metadata": {},
   "outputs": [],
   "source": []
  },
  {
   "cell_type": "code",
   "execution_count": null,
   "metadata": {},
   "outputs": [],
   "source": []
  },
  {
   "cell_type": "code",
   "execution_count": null,
   "metadata": {},
   "outputs": [],
   "source": []
  },
  {
   "cell_type": "code",
   "execution_count": null,
   "metadata": {},
   "outputs": [],
   "source": []
  },
  {
   "cell_type": "code",
   "execution_count": null,
   "metadata": {},
   "outputs": [],
   "source": []
  },
  {
   "cell_type": "code",
   "execution_count": null,
   "metadata": {},
   "outputs": [],
   "source": []
  },
  {
   "cell_type": "code",
   "execution_count": null,
   "metadata": {},
   "outputs": [],
   "source": []
  }
 ],
 "metadata": {
  "kernelspec": {
   "display_name": "Python 3",
   "language": "python",
   "name": "python3"
  },
  "language_info": {
   "codemirror_mode": {
    "name": "ipython",
    "version": 3
   },
   "file_extension": ".py",
   "mimetype": "text/x-python",
   "name": "python",
   "nbconvert_exporter": "python",
   "pygments_lexer": "ipython3",
   "version": "3.8.3"
  }
 },
 "nbformat": 4,
 "nbformat_minor": 4
}
